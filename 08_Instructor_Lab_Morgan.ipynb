{
 "cells": [
  {
   "cell_type": "markdown",
   "id": "dae9201b-5497-47dc-899a-ecf6d0248c92",
   "metadata": {},
   "source": [
    "Troy Morgan  \n",
    "Week 8 Instructor-Led Lab  \n",
    "BGEN 632, Graduate Introduction to Python  \n",
    "Submitted April 21, 2025  \n",
    "\n",
    "Instructor-led Lab: Advanced Data Manipulation  "
   ]
  },
  {
   "cell_type": "markdown",
   "id": "ff6ed529-5f77-44e2-a0de-8acf01ff071d",
   "metadata": {},
   "source": [
    "# Sorting and Ordering Data\n",
    "**** Select the columns `Team_type`, `human_work`, and `work_per_human`.\n",
    "* Select columns that end in the letter `t`. Use the regex `t$`.\n",
    "* Sort your data descending using the columns `Team_size_class`, `human_work`, `work_per_human`.\n",
    "* Select `human-bot` teams that have a `bot_members_count` value greater than and equal to 3.\n",
    "* Find the `human` teams that are `Large` and have a `human_gini` value greater than and equal to 0.75.\n",
    "* How many teams are in the `Small` or `Large` category?\n",
    "* How many teams are in the `Small` or `Large` category with a `human_gini` value less than and equal to 0.25?\n",
    "* How many `human` teams are in the `Medium` category?\n",
    "* Save the columns `Team_size_class` and `work_per_human` as a new DataFrame.\n",
    "* Rename these two columns in the new DataFrame. Change `human_gini` to `work_inequality` and `eval_survival_day_median` to `issue_resolution_time`."
   ]
  },
  {
   "cell_type": "code",
   "execution_count": 2,
   "id": "d1887c5c-9c45-4b48-bbfd-fd5f4837c71a",
   "metadata": {},
   "outputs": [],
   "source": [
    "## Imports\n",
    "import os\n",
    "import numpy as np\n",
    "import pandas as pd"
   ]
  },
  {
   "cell_type": "code",
   "execution_count": 3,
   "id": "7db2cb18-7e62-4e4a-a26a-2ffb50a1796a",
   "metadata": {},
   "outputs": [
    {
     "data": {
      "text/plain": [
       "'C:\\\\Users\\\\troy.morgan\\\\Documents\\\\GitHub\\\\week8labs\\\\data'"
      ]
     },
     "execution_count": 3,
     "metadata": {},
     "output_type": "execute_result"
    }
   ],
   "source": [
    "# Set working directory and confirm.\n",
    "os.chdir(\"\\\\Users\\\\troy.morgan\\\\Documents\\\\GitHub\\\\week8labs/data\")  \n",
    "os.getcwd()  "
   ]
  },
  {
   "cell_type": "code",
   "execution_count": 4,
   "id": "83b15841-75c0-40f2-b246-b06adecb9ad4",
   "metadata": {},
   "outputs": [],
   "source": [
    "# Import data\n",
    "github_teams = pd.read_csv(\"github_teams.csv\")"
   ]
  },
  {
   "cell_type": "markdown",
   "id": "c67b1271-ebab-4c3a-bdc1-52cbbca206ec",
   "metadata": {},
   "source": [
    "## Select the columns `Team_type`, `human_work`, and `work_per_human`."
   ]
  },
  {
   "cell_type": "code",
   "execution_count": 6,
   "id": "d772684d-915f-4109-abf9-da1020d21daa",
   "metadata": {},
   "outputs": [
    {
     "data": {
      "text/html": [
       "<div>\n",
       "<style scoped>\n",
       "    .dataframe tbody tr th:only-of-type {\n",
       "        vertical-align: middle;\n",
       "    }\n",
       "\n",
       "    .dataframe tbody tr th {\n",
       "        vertical-align: top;\n",
       "    }\n",
       "\n",
       "    .dataframe thead th {\n",
       "        text-align: right;\n",
       "    }\n",
       "</style>\n",
       "<table border=\"1\" class=\"dataframe\">\n",
       "  <thead>\n",
       "    <tr style=\"text-align: right;\">\n",
       "      <th></th>\n",
       "      <th>Team_type</th>\n",
       "      <th>human_work</th>\n",
       "      <th>work_per_human</th>\n",
       "    </tr>\n",
       "  </thead>\n",
       "  <tbody>\n",
       "    <tr>\n",
       "      <th>0</th>\n",
       "      <td>human-bot</td>\n",
       "      <td>66</td>\n",
       "      <td>33.000000</td>\n",
       "    </tr>\n",
       "    <tr>\n",
       "      <th>1</th>\n",
       "      <td>human</td>\n",
       "      <td>62</td>\n",
       "      <td>31.000000</td>\n",
       "    </tr>\n",
       "    <tr>\n",
       "      <th>2</th>\n",
       "      <td>human</td>\n",
       "      <td>211</td>\n",
       "      <td>30.142857</td>\n",
       "    </tr>\n",
       "    <tr>\n",
       "      <th>3</th>\n",
       "      <td>human-bot</td>\n",
       "      <td>14579</td>\n",
       "      <td>62.303419</td>\n",
       "    </tr>\n",
       "    <tr>\n",
       "      <th>4</th>\n",
       "      <td>human-bot</td>\n",
       "      <td>1625</td>\n",
       "      <td>42.763158</td>\n",
       "    </tr>\n",
       "  </tbody>\n",
       "</table>\n",
       "</div>"
      ],
      "text/plain": [
       "   Team_type  human_work  work_per_human\n",
       "0  human-bot          66       33.000000\n",
       "1      human          62       31.000000\n",
       "2      human         211       30.142857\n",
       "3  human-bot       14579       62.303419\n",
       "4  human-bot        1625       42.763158"
      ]
     },
     "execution_count": 6,
     "metadata": {},
     "output_type": "execute_result"
    }
   ],
   "source": [
    "# Select using .filter() and quick inspect using .head()\n",
    "(github_teams\n",
    " .filter([\"Team_type\", \"human_work\", \"work_per_human\"])\n",
    " .head()\n",
    ")"
   ]
  },
  {
   "cell_type": "code",
   "execution_count": null,
   "id": "c4cbcf43-ea69-45f9-baf8-f98c0fe0c615",
   "metadata": {},
   "outputs": [],
   "source": []
  }
 ],
 "metadata": {
  "kernelspec": {
   "display_name": "Python 3 (ipykernel)",
   "language": "python",
   "name": "python3"
  },
  "language_info": {
   "codemirror_mode": {
    "name": "ipython",
    "version": 3
   },
   "file_extension": ".py",
   "mimetype": "text/x-python",
   "name": "python",
   "nbconvert_exporter": "python",
   "pygments_lexer": "ipython3",
   "version": "3.12.7"
  }
 },
 "nbformat": 4,
 "nbformat_minor": 5
}
